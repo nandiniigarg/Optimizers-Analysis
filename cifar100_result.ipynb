{
 "cells": [
  {
   "cell_type": "code",
   "execution_count": 10,
   "id": "88a4b782",
   "metadata": {},
   "outputs": [],
   "source": [
    "from keras.datasets import cifar100\n",
    "from tensorflow.keras.models import Sequential\n",
    "from tensorflow.keras.layers import Dense, Conv2D,MaxPooling2D, Flatten\n",
    "import keras\n",
    "from tensorflow.keras.optimizers import Adam, Adagrad, Adamax, RMSprop, SGD, Adadelta\n",
    "import matplotlib.pyplot as plt\n",
    "import numpy as np\n",
    "from keras import layers"
   ]
  },
  {
   "cell_type": "code",
   "execution_count": 2,
   "id": "6dd4f268",
   "metadata": {},
   "outputs": [],
   "source": [
    "(x_train, y_train), (x_test, y_test) = keras.datasets.cifar100.load_data()"
   ]
  },
  {
   "cell_type": "code",
   "execution_count": 3,
   "id": "9bb8146e",
   "metadata": {},
   "outputs": [
    {
     "data": {
      "text/plain": [
       "(50000, 32, 32, 3)"
      ]
     },
     "execution_count": 3,
     "metadata": {},
     "output_type": "execute_result"
    }
   ],
   "source": [
    "x_train.shape"
   ]
  },
  {
   "cell_type": "code",
   "execution_count": 4,
   "id": "a60f59ed",
   "metadata": {},
   "outputs": [
    {
     "data": {
      "text/plain": [
       "(10000, 32, 32, 3)"
      ]
     },
     "execution_count": 4,
     "metadata": {},
     "output_type": "execute_result"
    }
   ],
   "source": [
    "x_test.shape"
   ]
  },
  {
   "cell_type": "code",
   "execution_count": 5,
   "id": "84f9973b",
   "metadata": {},
   "outputs": [
    {
     "name": "stdout",
     "output_type": "stream",
     "text": [
      "0 255\n"
     ]
    }
   ],
   "source": [
    "print(x_train.min(), x_train.max())"
   ]
  },
  {
   "cell_type": "code",
   "execution_count": 6,
   "id": "81110589",
   "metadata": {},
   "outputs": [],
   "source": [
    "import tensorflow as tf\n",
    "\n",
    "\n",
    "x_train=x_train.astype('float32')/255.0\n",
    "x_test=x_test.astype('float32')/255\n",
    "y_train=tf.keras.utils.to_categorical(y_train,100)\n",
    "y_test=tf.keras.utils.to_categorical(y_test,100)"
   ]
  },
  {
   "cell_type": "code",
   "execution_count": 7,
   "id": "16fd7ac1",
   "metadata": {},
   "outputs": [],
   "source": [
    "import numpy as np\n",
    "\n",
    "x_test = np.array(x_test)\n",
    "y_test = np.array(y_test)"
   ]
  },
  {
   "cell_type": "code",
   "execution_count": 8,
   "id": "3f4382e8",
   "metadata": {},
   "outputs": [
    {
     "name": "stdout",
     "output_type": "stream",
     "text": [
      "0.0 1.0\n"
     ]
    }
   ],
   "source": [
    "print(x_train.min(), x_train.max())"
   ]
  },
  {
   "cell_type": "code",
   "execution_count": 11,
   "id": "365a0c61",
   "metadata": {
    "scrolled": true
   },
   "outputs": [
    {
     "name": "stdout",
     "output_type": "stream",
     "text": [
      "Epoch 1/30\n"
     ]
    },
    {
     "name": "stderr",
     "output_type": "stream",
     "text": [
      "2023-02-27 02:57:36.177986: W tensorflow/core/platform/profile_utils/cpu_utils.cc:128] Failed to get CPU frequency: 0 Hz\n"
     ]
    },
    {
     "name": "stdout",
     "output_type": "stream",
     "text": [
      "1563/1563 [==============================] - 13s 8ms/step - loss: 3.9355 - accuracy: 0.0911 - val_loss: 3.4100 - val_accuracy: 0.1838\n",
      "Epoch 2/30\n",
      "1563/1563 [==============================] - 14s 9ms/step - loss: 3.2250 - accuracy: 0.2100 - val_loss: 3.0269 - val_accuracy: 0.2548\n",
      "Epoch 3/30\n",
      "1563/1563 [==============================] - 15s 10ms/step - loss: 2.8942 - accuracy: 0.2749 - val_loss: 2.8395 - val_accuracy: 0.2949\n",
      "Epoch 4/30\n",
      "1563/1563 [==============================] - 17s 11ms/step - loss: 2.6580 - accuracy: 0.3221 - val_loss: 2.7235 - val_accuracy: 0.3216\n",
      "Epoch 5/30\n",
      "1563/1563 [==============================] - 17s 11ms/step - loss: 2.4737 - accuracy: 0.3619 - val_loss: 2.6091 - val_accuracy: 0.3474\n",
      "Epoch 6/30\n",
      "1563/1563 [==============================] - 18s 12ms/step - loss: 2.3181 - accuracy: 0.3912 - val_loss: 2.5331 - val_accuracy: 0.3544\n",
      "Epoch 7/30\n",
      "1563/1563 [==============================] - 19s 12ms/step - loss: 2.1861 - accuracy: 0.4211 - val_loss: 2.5100 - val_accuracy: 0.3683\n",
      "Epoch 8/30\n",
      "1563/1563 [==============================] - 19s 12ms/step - loss: 2.0748 - accuracy: 0.4427 - val_loss: 2.5009 - val_accuracy: 0.3703\n",
      "Epoch 9/30\n",
      "1563/1563 [==============================] - 19s 12ms/step - loss: 1.9746 - accuracy: 0.4659 - val_loss: 2.4872 - val_accuracy: 0.3786\n",
      "Epoch 10/30\n",
      "1563/1563 [==============================] - 18s 11ms/step - loss: 1.8756 - accuracy: 0.4893 - val_loss: 2.4952 - val_accuracy: 0.3894\n",
      "Epoch 11/30\n",
      "1563/1563 [==============================] - 19s 12ms/step - loss: 1.7814 - accuracy: 0.5102 - val_loss: 2.5832 - val_accuracy: 0.3809\n",
      "Epoch 12/30\n",
      "1563/1563 [==============================] - 19s 12ms/step - loss: 1.7012 - accuracy: 0.5273 - val_loss: 2.6715 - val_accuracy: 0.3736\n",
      "Epoch 13/30\n",
      "1563/1563 [==============================] - 19s 12ms/step - loss: 1.6273 - accuracy: 0.5460 - val_loss: 2.6497 - val_accuracy: 0.3776\n",
      "Epoch 14/30\n",
      "1563/1563 [==============================] - 19s 12ms/step - loss: 1.5438 - accuracy: 0.5663 - val_loss: 2.7162 - val_accuracy: 0.3743\n",
      "Epoch 15/30\n",
      "1563/1563 [==============================] - 19s 12ms/step - loss: 1.4749 - accuracy: 0.5828 - val_loss: 2.7884 - val_accuracy: 0.3784\n",
      "Epoch 16/30\n",
      "1563/1563 [==============================] - 19s 12ms/step - loss: 1.4044 - accuracy: 0.5988 - val_loss: 2.8194 - val_accuracy: 0.3735\n",
      "Epoch 17/30\n",
      "1563/1563 [==============================] - 17s 11ms/step - loss: 1.3430 - accuracy: 0.6139 - val_loss: 2.9214 - val_accuracy: 0.3771\n",
      "Epoch 18/30\n",
      "1563/1563 [==============================] - 16s 10ms/step - loss: 1.2883 - accuracy: 0.6286 - val_loss: 3.0144 - val_accuracy: 0.3723\n",
      "Epoch 19/30\n",
      "1563/1563 [==============================] - 16s 10ms/step - loss: 1.2285 - accuracy: 0.6404 - val_loss: 3.0757 - val_accuracy: 0.3683\n",
      "Epoch 20/30\n",
      "1563/1563 [==============================] - 18s 11ms/step - loss: 1.1687 - accuracy: 0.6542 - val_loss: 3.2189 - val_accuracy: 0.3709\n",
      "Epoch 21/30\n",
      "1563/1563 [==============================] - 25s 16ms/step - loss: 1.1270 - accuracy: 0.6640 - val_loss: 3.2892 - val_accuracy: 0.3677\n",
      "Epoch 22/30\n",
      "1563/1563 [==============================] - 24s 15ms/step - loss: 1.0777 - accuracy: 0.6791 - val_loss: 3.3835 - val_accuracy: 0.3603\n",
      "Epoch 23/30\n",
      "1563/1563 [==============================] - 24s 15ms/step - loss: 1.0372 - accuracy: 0.6893 - val_loss: 3.5687 - val_accuracy: 0.3567\n",
      "Epoch 24/30\n",
      "1563/1563 [==============================] - 25s 16ms/step - loss: 0.9967 - accuracy: 0.6977 - val_loss: 3.6577 - val_accuracy: 0.3541\n",
      "Epoch 25/30\n",
      "1563/1563 [==============================] - 25s 16ms/step - loss: 0.9532 - accuracy: 0.7113 - val_loss: 3.8253 - val_accuracy: 0.3517\n",
      "Epoch 26/30\n",
      "1563/1563 [==============================] - 24s 16ms/step - loss: 0.9176 - accuracy: 0.7188 - val_loss: 3.9182 - val_accuracy: 0.3500\n",
      "Epoch 27/30\n",
      "1563/1563 [==============================] - 24s 15ms/step - loss: 0.8866 - accuracy: 0.7250 - val_loss: 4.0648 - val_accuracy: 0.3474\n",
      "Epoch 28/30\n",
      "1563/1563 [==============================] - 24s 15ms/step - loss: 0.8526 - accuracy: 0.7374 - val_loss: 4.0943 - val_accuracy: 0.3506\n",
      "Epoch 29/30\n",
      "1563/1563 [==============================] - 24s 15ms/step - loss: 0.8285 - accuracy: 0.7420 - val_loss: 4.2244 - val_accuracy: 0.3461\n",
      "Epoch 30/30\n",
      "1563/1563 [==============================] - 25s 16ms/step - loss: 0.8078 - accuracy: 0.7490 - val_loss: 4.3171 - val_accuracy: 0.3506\n"
     ]
    }
   ],
   "source": [
    "# Adam Optimizer for CIFAR100 dataset\n",
    "\n",
    "model_cifar100_adam = Sequential()\n",
    "model_cifar100_adam.add(Conv2D(32, kernel_size=(3, 3), activation='relu', input_shape=(32, 32, 3)))\n",
    "model_cifar100_adam.add(MaxPooling2D(pool_size=(2, 2)))\n",
    "model_cifar100_adam.add(Conv2D(64, kernel_size=(3, 3), activation='relu'))\n",
    "model_cifar100_adam.add(MaxPooling2D(pool_size=(2, 2)))\n",
    "model_cifar100_adam.add(Conv2D(128, kernel_size=(3, 3), activation='relu'))\n",
    "model_cifar100_adam.add(MaxPooling2D(pool_size=(2, 2)))\n",
    "model_cifar100_adam.add(Flatten())\n",
    "model_cifar100_adam.add(Dense(256, activation='relu'))\n",
    "model_cifar100_adam.add(Dense(128, activation='relu'))\n",
    "model_cifar100_adam.add(Dense(100, activation='softmax'))\n",
    "\n",
    "model_cifar100_adam.compile(loss='categorical_crossentropy', optimizer=Adam(),metrics=['accuracy'])\n",
    "\n",
    "history_adam_cifar100 = model_cifar100_adam.fit(\n",
    "    x_train, y_train, epochs=30, verbose=1, validation_data=(x_test, y_test)\n",
    ")"
   ]
  },
  {
   "cell_type": "code",
   "execution_count": null,
   "id": "08f05cc8",
   "metadata": {},
   "outputs": [
    {
     "name": "stdout",
     "output_type": "stream",
     "text": [
      "Epoch 1/30\n",
      "1563/1563 [==============================] - 25s 16ms/step - loss: 4.6042 - accuracy: 0.0107 - val_loss: 4.6018 - val_accuracy: 0.0107\n",
      "Epoch 2/30\n",
      "1563/1563 [==============================] - 25s 16ms/step - loss: 4.5996 - accuracy: 0.0141 - val_loss: 4.5968 - val_accuracy: 0.0163\n",
      "Epoch 3/30\n",
      "1563/1563 [==============================] - 1067s 683ms/step - loss: 4.5918 - accuracy: 0.0168 - val_loss: 4.5852 - val_accuracy: 0.0186\n",
      "Epoch 4/30\n",
      "1563/1563 [==============================] - 1030s 659ms/step - loss: 4.5680 - accuracy: 0.0190 - val_loss: 4.5412 - val_accuracy: 0.0190\n",
      "Epoch 5/30\n",
      "1563/1563 [==============================] - 3861s 2s/step - loss: 4.4911 - accuracy: 0.0270 - val_loss: 4.4364 - val_accuracy: 0.0375\n",
      "Epoch 6/30\n",
      "1563/1563 [==============================] - 3550s 2s/step - loss: 4.3825 - accuracy: 0.0401 - val_loss: 4.3309 - val_accuracy: 0.0411\n",
      "Epoch 7/30\n",
      "1563/1563 [==============================] - 3053s 2s/step - loss: 4.2836 - accuracy: 0.0480 - val_loss: 4.2427 - val_accuracy: 0.0496\n",
      "Epoch 8/30\n",
      "1563/1563 [==============================] - 1059s 678ms/step - loss: 4.2160 - accuracy: 0.0559 - val_loss: 4.1966 - val_accuracy: 0.0601\n",
      "Epoch 9/30\n",
      "1563/1563 [==============================] - 2954s 2s/step - loss: 4.1739 - accuracy: 0.0641 - val_loss: 4.1597 - val_accuracy: 0.0716\n",
      "Epoch 10/30\n",
      "1563/1563 [==============================] - 4020s 3s/step - loss: 4.1411 - accuracy: 0.0710 - val_loss: 4.1337 - val_accuracy: 0.0743\n",
      "Epoch 11/30\n",
      "1563/1563 [==============================] - 3970s 3s/step - loss: 4.1150 - accuracy: 0.0780 - val_loss: 4.1073 - val_accuracy: 0.0820\n",
      "Epoch 12/30\n",
      "1563/1563 [==============================] - 26s 17ms/step - loss: 4.0907 - accuracy: 0.0811 - val_loss: 4.0891 - val_accuracy: 0.0848\n",
      "Epoch 13/30\n",
      "1563/1563 [==============================] - 2149s 1s/step - loss: 4.0694 - accuracy: 0.0853 - val_loss: 4.0667 - val_accuracy: 0.0858\n",
      "Epoch 14/30\n",
      "1563/1563 [==============================] - 25s 16ms/step - loss: 4.0493 - accuracy: 0.0876 - val_loss: 4.0489 - val_accuracy: 0.0898\n",
      "Epoch 15/30\n",
      "1563/1563 [==============================] - 25s 16ms/step - loss: 4.0300 - accuracy: 0.0901 - val_loss: 4.0315 - val_accuracy: 0.0915\n",
      "Epoch 16/30\n",
      "1563/1563 [==============================] - 25s 16ms/step - loss: 4.0119 - accuracy: 0.0930 - val_loss: 4.0145 - val_accuracy: 0.0939\n",
      "Epoch 17/30\n",
      "1563/1563 [==============================] - 26s 17ms/step - loss: 3.9946 - accuracy: 0.0963 - val_loss: 4.0018 - val_accuracy: 0.0950\n",
      "Epoch 18/30\n",
      "1563/1563 [==============================] - 26s 16ms/step - loss: 3.9779 - accuracy: 0.0984 - val_loss: 3.9849 - val_accuracy: 0.0958\n",
      "Epoch 19/30\n",
      "1563/1563 [==============================] - 27s 17ms/step - loss: 3.9613 - accuracy: 0.1007 - val_loss: 3.9703 - val_accuracy: 0.1008\n",
      "Epoch 20/30\n",
      "1563/1563 [==============================] - 25s 16ms/step - loss: 3.9453 - accuracy: 0.1042 - val_loss: 3.9539 - val_accuracy: 0.0996\n",
      "Epoch 21/30\n",
      "1563/1563 [==============================] - 25s 16ms/step - loss: 3.9298 - accuracy: 0.1065 - val_loss: 3.9395 - val_accuracy: 0.1005\n",
      "Epoch 22/30\n",
      "1563/1563 [==============================] - 25s 16ms/step - loss: 3.9143 - accuracy: 0.1084 - val_loss: 3.9271 - val_accuracy: 0.1049\n",
      "Epoch 23/30\n",
      "1538/1563 [============================>.] - ETA: 0s - loss: 3.8987 - accuracy: 0.1113"
     ]
    }
   ],
   "source": [
    "# Adagrad Optimizer for CIFAR100 dataset\n",
    "\n",
    "model_adagrad_cifar100 = Sequential()\n",
    "model_adagrad_cifar100.add(Conv2D(32, kernel_size=(3, 3), activation='relu', input_shape=(32, 32, 3)))\n",
    "model_adagrad_cifar100.add(MaxPooling2D(pool_size=(2, 2)))\n",
    "model_adagrad_cifar100.add(Conv2D(64, kernel_size=(3, 3), activation='relu'))\n",
    "model_adagrad_cifar100.add(MaxPooling2D(pool_size=(2, 2)))\n",
    "model_adagrad_cifar100.add(Conv2D(128, kernel_size=(3, 3), activation='relu'))\n",
    "model_adagrad_cifar100.add(MaxPooling2D(pool_size=(2, 2)))\n",
    "model_adagrad_cifar100.add(Flatten())\n",
    "model_adagrad_cifar100.add(Dense(256, activation='relu'))\n",
    "model_adagrad_cifar100.add(Dense(128, activation='relu'))\n",
    "model_adagrad_cifar100.add(Dense(100, activation='softmax'))\n",
    "\n",
    "model_adagrad_cifar100.compile(loss='categorical_crossentropy', optimizer=Adagrad(),metrics=['accuracy'])\n",
    "\n",
    "history_adagrad_cifar100 = model_adagrad_cifar100.fit(\n",
    "    x_train, y_train, epochs=30, verbose=1, validation_data=(x_test, y_test)\n",
    ")"
   ]
  },
  {
   "cell_type": "code",
   "execution_count": null,
   "id": "6a9638b9",
   "metadata": {},
   "outputs": [],
   "source": [
    "# Adamax Optimizer for CIFAR100 dataset\n",
    "\n",
    "model_adamax_cifar100 = Sequential()\n",
    "model_adamax_cifar100.add(Conv2D(32, kernel_size=(3, 3), activation='relu', input_shape=(32, 32, 3)))\n",
    "model_adamax_cifar100.add(MaxPooling2D(pool_size=(2, 2)))\n",
    "model_adamax_cifar100.add(Conv2D(64, kernel_size=(3, 3), activation='relu'))\n",
    "model_adamax_cifar100.add(MaxPooling2D(pool_size=(2, 2)))\n",
    "model_adamax_cifar100.add(Conv2D(128, kernel_size=(3, 3), activation='relu'))\n",
    "model_adamax_cifar100.add(MaxPooling2D(pool_size=(2, 2)))\n",
    "model_adamax_cifar100.add(Flatten())\n",
    "model_adamax_cifar100.add(Dense(256, activation='relu'))\n",
    "model_adamax_cifar100.add(Dense(128, activation='relu'))\n",
    "model_adamax_cifar100.add(Dense(100, activation='softmax'))\n",
    "\n",
    "model_adamax_cifar100.compile(loss='categorical_crossentropy', optimizer=Adamax(),metrics=['accuracy'])\n",
    "\n",
    "history_adamax_cifar100 = model_adamax_cifar100.fit(\n",
    "    x_train, y_train, epochs=30, verbose=1, validation_data=(x_test, y_test)\n",
    ")"
   ]
  },
  {
   "cell_type": "code",
   "execution_count": null,
   "id": "1006bd35",
   "metadata": {},
   "outputs": [],
   "source": [
    "# RMSprop Optimizer for CIFAR100 dataset\n",
    "\n",
    "model_rms_cifar100 = Sequential()\n",
    "model_rms_cifar100.add(Conv2D(32, kernel_size=(3, 3), activation='relu', input_shape=(32, 32, 3)))\n",
    "model_rms_cifar100.add(MaxPooling2D(pool_size=(2, 2)))\n",
    "model_rms_cifar100.add(Conv2D(64, kernel_size=(3, 3), activation='relu'))\n",
    "model_rms_cifar100.add(MaxPooling2D(pool_size=(2, 2)))\n",
    "model_rms_cifar100.add(Conv2D(128, kernel_size=(3, 3), activation='relu'))\n",
    "model_rms_cifar100.add(MaxPooling2D(pool_size=(2, 2)))\n",
    "model_rms_cifar100.add(Flatten())\n",
    "model_rms_cifar100.add(Dense(256, activation='relu'))\n",
    "model_rms_cifar100.add(Dense(128, activation='relu'))\n",
    "model_rms_cifar100.add(Dense(100, activation='softmax'))\n",
    "\n",
    "model_rms_cifar100.compile(loss='categorical_crossentropy', optimizer=RMSprop(),metrics=['accuracy'])\n",
    "\n",
    "history_rms_cifar100 = model_rms_cifar100.fit(\n",
    "    x_train, y_train, epochs=30, verbose=1, validation_data=(x_test, y_test)\n",
    ")"
   ]
  },
  {
   "cell_type": "code",
   "execution_count": null,
   "id": "2c398020",
   "metadata": {},
   "outputs": [],
   "source": [
    "# SGD Optimizer for CIFAR100 dataset\n",
    "\n",
    "model_sgd_cifar100 = Sequential()\n",
    "model_sgd_cifar100.add(Conv2D(32, kernel_size=(3, 3), activation='relu', input_shape=(32, 32, 3)))\n",
    "model_sgd_cifar100.add(MaxPooling2D(pool_size=(2, 2)))\n",
    "model_sgd_cifar100.add(Conv2D(64, kernel_size=(3, 3), activation='relu'))\n",
    "model_sgd_cifar100.add(MaxPooling2D(pool_size=(2, 2)))\n",
    "model_sgd_cifar100.add(Conv2D(128, kernel_size=(3, 3), activation='relu'))\n",
    "model_sgd_cifar100.add(MaxPooling2D(pool_size=(2, 2)))\n",
    "model_sgd_cifar100.add(Flatten())\n",
    "model_sgd_cifar100.add(Dense(256, activation='relu'))\n",
    "model_sgd_cifar100.add(Dense(128, activation='relu'))\n",
    "model_sgd_cifar100.add(Dense(100, activation='softmax'))\n",
    "\n",
    "model_sgd_cifar100.compile(loss='categorical_crossentropy', optimizer=RMSprop(),metrics=['accuracy'])\n",
    "\n",
    "history_sgd_cifar100 = model_sgd_cifar100.fit(\n",
    "    x_train, y_train, epochs=30, verbose=1, validation_data=(x_test, y_test)\n",
    ")"
   ]
  },
  {
   "cell_type": "code",
   "execution_count": null,
   "id": "96bafdbf",
   "metadata": {},
   "outputs": [],
   "source": [
    "plt.plot(history_adadelta_cifar100.history['loss'], label = 'Adadelta TR')\n",
    "plt.plot(history_adadelta_cifar100.history['val_loss'],linestyle=\"--\",label = 'Adadelta VL')\n",
    "\n",
    "plt.plot(history_sgd_cifar100.history['loss'], label = 'SGD TR')\n",
    "plt.plot(history_sgd_cifar100.history['val_loss'], linestyle=\"--\", label = 'SGD VL')\n",
    "\n",
    "plt.plot(history_adagrad_cifar100.history['loss'], label = 'Adagrad TR')\n",
    "plt.plot(history_adagrad_cifar100.history['val_loss'], linestyle=\"--\", label = 'Adagrad VL')\n",
    "\n",
    "plt.plot(history_adamax_cifar100.history['loss'], label = 'Adamax TR')\n",
    "plt.plot(history_adamax_cifar100.history['val_loss'], linestyle=\"--\", label = 'Adamax VL')\n",
    "\n",
    "plt.plot(history_rms_cifar100.history['loss'], label = 'RMSprop TR')\n",
    "plt.plot(history_rms_cifar100.history['val_loss'], linestyle=\"--\",  label = 'RMSprop VL')\n",
    "\n",
    "plt.plot(history_adam_cifar100.history['loss'], label = 'Adam TR')\n",
    "plt.plot(history_adam_cifar100.history['val_loss'], linestyle=\"--\", label ='Adam VL')\n",
    "\n",
    "plt.title('CIFAR100 Model Loss')\n",
    "plt.ylabel('Loss')\n",
    "plt.xlabel('Epoch')\n",
    "plt.legend()\n",
    "plt.figure(figsize=(18, 12))\n",
    "plt.savefig('cifar100_result.png')\n",
    "plt.show()"
   ]
  },
  {
   "cell_type": "code",
   "execution_count": null,
   "id": "5f7d76a2",
   "metadata": {},
   "outputs": [],
   "source": [
    "plt.plot(history_adadelta_cifar100.history['accuracy'], label = 'Adadelta TR')\n",
    "plt.plot(history_adadelta_cifar100.history['val_accuracy'],linestyle=\"--\",label = 'Adadelta VL')\n",
    "\n",
    "plt.plot(history_sgd_cifar100.history['accuracy'], label = 'SGD TR')\n",
    "plt.plot(history_sgd_cifar100.history['val_accuracy'], linestyle=\"--\", label = 'SGD VL')\n",
    "\n",
    "plt.plot(history_adagrad_cifar100.history['accuracy'], label = 'Adagrad TR')\n",
    "plt.plot(history_adagrad_cifar100.history['val_accuracy'], linestyle=\"--\", label = 'Adagrad VL')\n",
    "\n",
    "plt.plot(history_adamax_cifar100.history['accuracy'], label = 'Adamax TR')\n",
    "plt.plot(history_adamax_cifar100.history['val_accuracy'], linestyle=\"--\", label = 'Adamax VL')\n",
    "\n",
    "plt.plot(history_rms_cifar100.history['accuracy'], label = 'RMSprop TR')\n",
    "plt.plot(history_rms_cifar100.history['val_accuracy'], linestyle=\"--\",  label = 'RMSprop VL')\n",
    "\n",
    "plt.plot(history_adam_cifar100.history['accuracy'], label = 'Adam TR')\n",
    "plt.plot(history_adam_cifar100.history['val_accuracy'], linestyle=\"--\", label ='Adam VL')\n",
    "\n",
    "plt.title('Oxford Flowers Model Accuracy')\n",
    "plt.ylabel('Accuracy')\n",
    "plt.xlabel('Epoch')\n",
    "plt.legend()\n",
    "plt.figure(figsize=(18, 12))\n",
    "# plt.savefig('caltech_result.png')\n",
    "plt.show()"
   ]
  }
 ],
 "metadata": {
  "kernelspec": {
   "display_name": "Python 3 (ipykernel)",
   "language": "python",
   "name": "python3"
  },
  "language_info": {
   "codemirror_mode": {
    "name": "ipython",
    "version": 3
   },
   "file_extension": ".py",
   "mimetype": "text/x-python",
   "name": "python",
   "nbconvert_exporter": "python",
   "pygments_lexer": "ipython3",
   "version": "3.9.13"
  }
 },
 "nbformat": 4,
 "nbformat_minor": 5
}
